{
 "cells": [
  {
   "cell_type": "code",
   "execution_count": 1,
   "id": "745d5e6c",
   "metadata": {
    "scrolled": true
   },
   "outputs": [],
   "source": [
    "import forecast"
   ]
  },
  {
   "cell_type": "code",
   "execution_count": 2,
   "id": "264d375d",
   "metadata": {},
   "outputs": [
    {
     "name": "stdout",
     "output_type": "stream",
     "text": [
      "\n",
      "...checking forecast for Kolifornia...\n",
      "\n",
      "Yeewww, surf's up in Kolifornia on 06-12-2024\n",
      "Yeewww, surf's up in Kolifornia on 08-12-2024\n",
      "Yeewww, surf's up in Kolifornia on 09-12-2024\n",
      "\n",
      "...checking forecast for Seabridge...\n",
      "\n",
      "Yeewww, surf's up in Seabridge on 04-12-2024\n",
      "Yeewww, surf's up in Seabridge on 06-12-2024\n",
      "\n",
      "...checking forecast for Valhalla...\n",
      "\n",
      "Nope :(\n",
      "\n",
      "...checking forecast for Borncold...\n",
      "\n",
      "Yeewww, surf's up in Borncold on 06-12-2024\n",
      "Yeewww, surf's up in Borncold on 07-12-2024\n",
      "Yeewww, surf's up in Borncold on 08-12-2024\n"
     ]
    }
   ],
   "source": [
    "forecast.alarm()"
   ]
  },
  {
   "cell_type": "code",
   "execution_count": 3,
   "id": "97f7bdec",
   "metadata": {},
   "outputs": [],
   "source": [
    "lat = 54.1759\n",
    "lon = 15.5833"
   ]
  },
  {
   "cell_type": "code",
   "execution_count": 4,
   "id": "05b6908e",
   "metadata": {},
   "outputs": [],
   "source": [
    "df = forecast.request(lat,lon)"
   ]
  },
  {
   "cell_type": "code",
   "execution_count": 5,
   "id": "4513fb11",
   "metadata": {},
   "outputs": [
    {
     "data": {
      "text/html": [
       "<div>\n",
       "<style scoped>\n",
       "    .dataframe tbody tr th:only-of-type {\n",
       "        vertical-align: middle;\n",
       "    }\n",
       "\n",
       "    .dataframe tbody tr th {\n",
       "        vertical-align: top;\n",
       "    }\n",
       "\n",
       "    .dataframe thead th {\n",
       "        text-align: right;\n",
       "    }\n",
       "</style>\n",
       "<table border=\"1\" class=\"dataframe\">\n",
       "  <thead>\n",
       "    <tr style=\"text-align: right;\">\n",
       "      <th></th>\n",
       "      <th>sunrise</th>\n",
       "      <th>sunset</th>\n",
       "      <th>wind_speed (m/s)</th>\n",
       "      <th>wind_gust (m/s)</th>\n",
       "      <th>wind_deg (°)</th>\n",
       "      <th>wind_dir</th>\n",
       "    </tr>\n",
       "    <tr>\n",
       "      <th>dt</th>\n",
       "      <th></th>\n",
       "      <th></th>\n",
       "      <th></th>\n",
       "      <th></th>\n",
       "      <th></th>\n",
       "      <th></th>\n",
       "    </tr>\n",
       "  </thead>\n",
       "  <tbody>\n",
       "    <tr>\n",
       "      <th>02-12-2024 10:00:00</th>\n",
       "      <td>06:56</td>\n",
       "      <td>14:38</td>\n",
       "      <td>7.92</td>\n",
       "      <td>13.64</td>\n",
       "      <td>207</td>\n",
       "      <td>SSW</td>\n",
       "    </tr>\n",
       "    <tr>\n",
       "      <th>03-12-2024 10:00:00</th>\n",
       "      <td>06:57</td>\n",
       "      <td>14:37</td>\n",
       "      <td>6.55</td>\n",
       "      <td>11.33</td>\n",
       "      <td>206</td>\n",
       "      <td>SSW</td>\n",
       "    </tr>\n",
       "    <tr>\n",
       "      <th>04-12-2024 10:00:00</th>\n",
       "      <td>06:59</td>\n",
       "      <td>14:37</td>\n",
       "      <td>3.88</td>\n",
       "      <td>4.24</td>\n",
       "      <td>217</td>\n",
       "      <td>SW</td>\n",
       "    </tr>\n",
       "    <tr>\n",
       "      <th>05-12-2024 10:00:00</th>\n",
       "      <td>07:00</td>\n",
       "      <td>14:36</td>\n",
       "      <td>6.64</td>\n",
       "      <td>10.84</td>\n",
       "      <td>180</td>\n",
       "      <td>S</td>\n",
       "    </tr>\n",
       "    <tr>\n",
       "      <th>06-12-2024 10:00:00</th>\n",
       "      <td>07:01</td>\n",
       "      <td>14:36</td>\n",
       "      <td>13.93</td>\n",
       "      <td>20.76</td>\n",
       "      <td>255</td>\n",
       "      <td>WSW</td>\n",
       "    </tr>\n",
       "    <tr>\n",
       "      <th>07-12-2024 10:00:00</th>\n",
       "      <td>07:03</td>\n",
       "      <td>14:35</td>\n",
       "      <td>16.10</td>\n",
       "      <td>24.33</td>\n",
       "      <td>220</td>\n",
       "      <td>SW</td>\n",
       "    </tr>\n",
       "    <tr>\n",
       "      <th>08-12-2024 10:00:00</th>\n",
       "      <td>07:04</td>\n",
       "      <td>14:35</td>\n",
       "      <td>17.97</td>\n",
       "      <td>23.45</td>\n",
       "      <td>262</td>\n",
       "      <td>W</td>\n",
       "    </tr>\n",
       "    <tr>\n",
       "      <th>09-12-2024 10:00:00</th>\n",
       "      <td>07:05</td>\n",
       "      <td>14:34</td>\n",
       "      <td>12.75</td>\n",
       "      <td>15.04</td>\n",
       "      <td>337</td>\n",
       "      <td>NNW</td>\n",
       "    </tr>\n",
       "  </tbody>\n",
       "</table>\n",
       "</div>"
      ],
      "text/plain": [
       "                    sunrise sunset  wind_speed (m/s)  wind_gust (m/s)  \\\n",
       "dt                                                                      \n",
       "02-12-2024 10:00:00   06:56  14:38              7.92            13.64   \n",
       "03-12-2024 10:00:00   06:57  14:37              6.55            11.33   \n",
       "04-12-2024 10:00:00   06:59  14:37              3.88             4.24   \n",
       "05-12-2024 10:00:00   07:00  14:36              6.64            10.84   \n",
       "06-12-2024 10:00:00   07:01  14:36             13.93            20.76   \n",
       "07-12-2024 10:00:00   07:03  14:35             16.10            24.33   \n",
       "08-12-2024 10:00:00   07:04  14:35             17.97            23.45   \n",
       "09-12-2024 10:00:00   07:05  14:34             12.75            15.04   \n",
       "\n",
       "                     wind_deg (°) wind_dir  \n",
       "dt                                          \n",
       "02-12-2024 10:00:00           207      SSW  \n",
       "03-12-2024 10:00:00           206      SSW  \n",
       "04-12-2024 10:00:00           217       SW  \n",
       "05-12-2024 10:00:00           180        S  \n",
       "06-12-2024 10:00:00           255      WSW  \n",
       "07-12-2024 10:00:00           220       SW  \n",
       "08-12-2024 10:00:00           262        W  \n",
       "09-12-2024 10:00:00           337      NNW  "
      ]
     },
     "execution_count": 5,
     "metadata": {},
     "output_type": "execute_result"
    }
   ],
   "source": [
    "df"
   ]
  },
  {
   "cell_type": "code",
   "execution_count": null,
   "id": "76c81357",
   "metadata": {},
   "outputs": [],
   "source": []
  }
 ],
 "metadata": {
  "kernelspec": {
   "display_name": "Python 3 (ipykernel)",
   "language": "python",
   "name": "python3"
  },
  "language_info": {
   "codemirror_mode": {
    "name": "ipython",
    "version": 3
   },
   "file_extension": ".py",
   "mimetype": "text/x-python",
   "name": "python",
   "nbconvert_exporter": "python",
   "pygments_lexer": "ipython3",
   "version": "3.10.6"
  },
  "toc": {
   "base_numbering": 1,
   "nav_menu": {},
   "number_sections": true,
   "sideBar": true,
   "skip_h1_title": false,
   "title_cell": "Table of Contents",
   "title_sidebar": "Contents",
   "toc_cell": false,
   "toc_position": {},
   "toc_section_display": true,
   "toc_window_display": false
  }
 },
 "nbformat": 4,
 "nbformat_minor": 5
}
